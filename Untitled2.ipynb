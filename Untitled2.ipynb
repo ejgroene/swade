{
 "cells": [
  {
   "cell_type": "code",
   "execution_count": null,
   "id": "e98178e2-eb14-4460-8a9a-8e07025cb750",
   "metadata": {},
   "outputs": [],
   "source": []
  },
  {
   "cell_type": "code",
   "execution_count": null,
   "id": "727ee78c-00ed-4c8e-838e-aa8915a65a86",
   "metadata": {},
   "outputs": [],
   "source": [
    "PROMPT1 = \"\"\"\n",
    "Given the following ontological relations: <REL>\n",
    "\n",
    "From this table: /table\n",
    "\n",
    "Form the above ontologies for the above table, and give the output in the following query:\n",
    "\n",
    "/query\n",
    "\"\"\""
   ]
  },
  {
   "cell_type": "code",
   "execution_count": null,
   "id": "66964567-a6df-405f-9137-f10232b8aba1",
   "metadata": {},
   "outputs": [],
   "source": [
    "class DummyOntology:\n",
    "    def __init__(self):\n",
    "        self.graph = {}\n",
    "        \n",
    "    def add_class(self, name, attributes):\n",
    "        self.graph[name] = {}\n",
    "        for each_attr in attributes:\n",
    "            if each_attr not in self.graph[name].keys():\n",
    "                self.graph[name][each_attr] = None\n",
    "    "
   ]
  },
  {
   "cell_type": "code",
   "execution_count": null,
   "id": "38b79484-2cb4-42fc-81e9-e21f3c18fd47",
   "metadata": {},
   "outputs": [],
   "source": [
    "# load it in a python variable\n",
    "\n",
    "# "
   ]
  },
  {
   "cell_type": "code",
   "execution_count": null,
   "id": "0ba5c533-f94b-4b17-baca-c401c8cfb547",
   "metadata": {},
   "outputs": [],
   "source": [
    "# method 1:\n",
    "\n",
    "# Provide the complete json file in the prompt - for instance in PROMPT1: replace <REL> with the json file variable\n",
    "\n",
    "# try code-based LLMs (co-pilot) mistral-7b, 13-b, mixtral (MOE) (faster) - 43b\n"
   ]
  },
  {
   "cell_type": "code",
   "execution_count": null,
   "id": "ce21a8b9-9b51-4a60-9c5f-48b2bac66484",
   "metadata": {},
   "outputs": [],
   "source": [
    "# method 2:\n",
    "(simplified version of RAG)\n",
    "# Match the query with the json file comments (if not words/keywords) \n",
    "# Once the matching class is found from the json file, load only that ontological relation to replace in the PROMPT1 = <REL> with that class only\n",
    "# and run the query"
   ]
  }
 ],
 "metadata": {
  "kernelspec": {
   "display_name": "Python 3 (ipykernel)",
   "language": "python",
   "name": "python3"
  },
  "language_info": {
   "codemirror_mode": {
    "name": "ipython",
    "version": 3
   },
   "file_extension": ".py",
   "mimetype": "text/x-python",
   "name": "python",
   "nbconvert_exporter": "python",
   "pygments_lexer": "ipython3",
   "version": "3.10.13"
  }
 },
 "nbformat": 4,
 "nbformat_minor": 5
}
