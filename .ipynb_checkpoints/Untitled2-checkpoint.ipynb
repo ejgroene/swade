{
 "cells": [
  {
   "cell_type": "code",
   "execution_count": null,
   "id": "e98178e2-eb14-4460-8a9a-8e07025cb750",
   "metadata": {},
   "outputs": [],
   "source": []
  },
  {
   "cell_type": "code",
   "execution_count": null,
   "id": "727ee78c-00ed-4c8e-838e-aa8915a65a86",
   "metadata": {},
   "outputs": [],
   "source": [
    "PROMPT = \"\"\"\n",
    "Given the following ontological relations: <>\n",
    "\n",
    "From this table: /table\n",
    "\n",
    "Form the above ontologies for the above table, and give the output in the following query:\n",
    "\n",
    "/query\n",
    "\"\"\""
   ]
  }
 ],
 "metadata": {
  "kernelspec": {
   "display_name": "Python 3 (ipykernel)",
   "language": "python",
   "name": "python3"
  },
  "language_info": {
   "codemirror_mode": {
    "name": "ipython",
    "version": 3
   },
   "file_extension": ".py",
   "mimetype": "text/x-python",
   "name": "python",
   "nbconvert_exporter": "python",
   "pygments_lexer": "ipython3",
   "version": "3.10.13"
  }
 },
 "nbformat": 4,
 "nbformat_minor": 5
}
